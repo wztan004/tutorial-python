{
 "cells": [
  {
   "cell_type": "markdown",
   "metadata": {},
   "source": [
    "https://fastapi.tiangolo.com/python-types/"
   ]
  },
  {
   "cell_type": "code",
   "execution_count": 1,
   "metadata": {},
   "outputs": [
    {
     "name": "stdout",
     "output_type": "stream",
     "text": [
      "John Doe\n"
     ]
    }
   ],
   "source": [
    "def get_full_name(first_name, last_name):\n",
    "    full_name = first_name.title() + \" \" + last_name.title()\n",
    "    return full_name\n",
    "\n",
    "\n",
    "print(get_full_name(\"john\", \"doe\"))"
   ]
  },
  {
   "cell_type": "markdown",
   "metadata": {},
   "source": [
    "It's a very simple program.\n",
    "\n",
    "But now imagine that you were writing it from scratch.\n",
    "\n",
    "At some point you would have started the definition of the function, you had the parameters ready...\n",
    "\n",
    "But then you have to call \"that method that converts the first letter to upper case\".\n",
    "\n",
    "Was it upper? Was it uppercase? first_uppercase? capitalize?\n",
    "\n",
    "Then, you try with the old programmer's friend, editor autocompletion.\n",
    "\n",
    "You type the first parameter of the function, first_name, then a dot (.) and then hit Ctrl+Space to trigger the completion.\n",
    "\n",
    "But, sadly, you get nothing useful:"
   ]
  },
  {
   "cell_type": "markdown",
   "metadata": {},
   "source": [
    "Let's modify a single line from the previous version.\n",
    "\n",
    "We will change exactly this fragment, the parameters of the function, from:\n",
    "\n",
    "\n",
    "    `first_name, last_name`\n",
    "to:\n",
    "\n",
    "\n",
    "    `first_name: str, last_name: str`\n",
    "\n",
    "Those are the \"type hints\". But now, imagine you are again in the middle of creating that function, but with type hints.\n",
    "\n",
    "At the same point, you try to trigger the autocomplete with Ctrl+Space and you see properly suggested methods."
   ]
  },
  {
   "cell_type": "code",
   "execution_count": null,
   "metadata": {},
   "outputs": [],
   "source": [
    "def get_full_name(first_name: str, last_name: str):\n",
    "    full_name = first_name.title() + \" \" + last_name.\n",
    "    return full_name\n",
    "\n",
    "\n",
    "print(get_full_name(\"john\", \"doe\"))"
   ]
  },
  {
   "cell_type": "code",
   "execution_count": 2,
   "metadata": {},
   "outputs": [],
   "source": [
    "def get_name_with_age(name: str, age: int):\n",
    "    name_with_age = name + \" is this old: \" + age\n",
    "    return name_with_age\n"
   ]
  },
  {
   "cell_type": "code",
   "execution_count": 4,
   "metadata": {},
   "outputs": [
    {
     "ename": "NameError",
     "evalue": "name 'name' is not defined",
     "output_type": "error",
     "traceback": [
      "\u001b[0;31m---------------------------------------------------------------------------\u001b[0m",
      "\u001b[0;31mNameError\u001b[0m                                 Traceback (most recent call last)",
      "Cell \u001b[0;32mIn[4], line 1\u001b[0m\n\u001b[0;32m----> 1\u001b[0m get_name_with_age(\u001b[43mname\u001b[49m, age)\n",
      "\u001b[0;31mNameError\u001b[0m: name 'name' is not defined"
     ]
    }
   ],
   "source": [
    "get_name_with_age(name, age)"
   ]
  },
  {
   "cell_type": "code",
   "execution_count": null,
   "metadata": {},
   "outputs": [],
   "source": []
  }
 ],
 "metadata": {
  "kernelspec": {
   "display_name": "Python 3",
   "language": "python",
   "name": "python3"
  },
  "language_info": {
   "codemirror_mode": {
    "name": "ipython",
    "version": 3
   },
   "file_extension": ".py",
   "mimetype": "text/x-python",
   "name": "python",
   "nbconvert_exporter": "python",
   "pygments_lexer": "ipython3",
   "version": "3.9.6"
  }
 },
 "nbformat": 4,
 "nbformat_minor": 2
}
